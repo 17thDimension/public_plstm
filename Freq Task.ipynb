{
 "cells": [
  {
   "cell_type": "code",
   "execution_count": 7,
   "metadata": {
    "collapsed": false
   },
   "outputs": [],
   "source": [
    "import glob\n",
    "import sys\n",
    "import numpy as np\n",
    "import matplotlib\n",
    "import matplotlib.pyplot as plt\n",
    "from collections import defaultdict\n",
    "from lasagne_utils import load_log\n",
    "\n",
    "font = {'weight' : 'normal',\n",
    "        'size'   : 18}\n",
    "matplotlib.rc('font', **font)\n",
    "%matplotlib inline\n",
    "\n",
    "def get_min_mean_max(log_files, key='val_acc', clip_to_shortest=True, clip_length=None):\n",
    "    logs = []\n",
    "    for log_file in log_files:\n",
    "        logs.append(load_log(log_file, append_dir=False))\n",
    "    if clip_to_shortest:\n",
    "        clip_length = np.min([len(log[key]) for log in logs])\n",
    "    min_line = np.min([log[key][:clip_length] for log in logs], axis=0)\n",
    "    mean_line = np.mean([log[key][:clip_length] for log in logs], axis=0)\n",
    "    max_line = np.max([log[key][:clip_length] for log in logs], axis=0)\n",
    "    return min_line, mean_line, max_line\n",
    "\n",
    "def get_mean_std_at_pos(log_files, key, pos=-1):\n",
    "    logs = []\n",
    "    for log_file in log_files:\n",
    "        logs.append(load_log(log_file, append_dir=False))\n",
    "    scores = [log[key][pos] for log in logs]\n",
    "    mean = np.mean(scores)\n",
    "    std = np.std(scores)\n",
    "    return mean, std"
   ]
  },
  {
   "cell_type": "code",
   "execution_count": 18,
   "metadata": {
    "collapsed": false
   },
   "outputs": [
    {
     "name": "stdout",
     "output_type": "stream",
     "text": [
      "['reg--samp--0--samp--res--0.0', 'reg--samp--1--samp--res--0.1', 'reg--samp--1--samp--res--1.0']\n",
      "['plstm--bn--0', 'lstm--bn--1', 'lstm--bn--0']\n",
      "Means: [[ 99.0625     70.546875   99.4140625]\n",
      " [ 98.6328125  51.9140625  51.9140625]\n",
      " [ 96.2890625  56.8359375  64.921875 ]]\n",
      "Stds: [[  0.14615849  23.17410591   0.21395412]\n",
      " [  0.77142256   0.73495655   0.73495655]\n",
      " [  0.           9.67063174  11.78147277]]\n",
      "Counts: [[ 5.  5.  5.]\n",
      " [ 5.  5.  5.]\n",
      " [ 1.  5.  5.]]\n",
      "Done.\n"
     ]
    }
   ],
   "source": [
    "result_files = glob.glob('./models/freq_task*final.log')\n",
    "results = defaultdict(lambda:defaultdict(list) )\n",
    "\n",
    "for result_file in result_files:\n",
    "    result_attribs = result_file.split('_')\n",
    "    net_type_key = '--'.join(result_attribs[3:6])\n",
    "    run_type_key = '--'.join(result_attribs[6:12])\n",
    "    results[run_type_key][net_type_key].append(result_file)\n",
    "\n",
    "print(results.keys())\n",
    "print(results.values()[0].keys())\n",
    "\n",
    "order_run_type = {'reg--samp--0--samp--res--0.0': 2,\n",
    "                  'reg--samp--1--samp--res--0.1': 1,\n",
    "                  'reg--samp--1--samp--res--1.0': 0}\n",
    "order_net_type = {'plstm--bn--0':0, 'lstm--bn--1':2, 'lstm--bn--0':1}\n",
    "\n",
    "means  = np.zeros( (len(results.keys()), len(results.values()[0])) )\n",
    "stds   = np.zeros( (len(results.keys()), len(results.values()[0])) )\n",
    "counts = np.zeros( (len(results.keys()), len(results.values()[0])) )\n",
    "for run_key in results.keys():\n",
    "    for net_key in results[run_key].keys():\n",
    "        run_mean, run_std = get_mean_std_at_pos(results[run_key][net_key], 'val_acc', 49)\n",
    "        run_idx, net_idx = order_run_type[run_key], order_net_type[net_key]\n",
    "        means[run_idx][net_idx] = run_mean\n",
    "        stds[run_idx][net_idx] = run_std\n",
    "        counts[run_idx][net_idx] += len(results[run_key][net_key])\n",
    "        \n",
    "print('Means: {}'.format(means))\n",
    "print('Stds: {}'.format(stds))\n",
    "print('Counts: {}'.format(counts))\n",
    "print('Done.')"
   ]
  },
  {
   "cell_type": "code",
   "execution_count": 16,
   "metadata": {
    "collapsed": false
   },
   "outputs": [
    {
     "data": {
      "image/png": "[encoded data removed]",
      "text/plain": [
       "<matplotlib.figure.Figure at 0x7f23c9d22c90>"
      ]
     },
     "metadata": {},
     "output_type": "display_data"
    }
   ],
   "source": [
    "N = 3\n",
    "# means = np.array([[95, 95, 95], [95, 55, 50], [95,55,50]])\n",
    "#stds  = np.array([[5, 5, 5], [5, 5, 5], [5,5,5]])\n",
    "\n",
    "ind = np.arange(N)  # the x locations for the groups\n",
    "width = 0.15         # the width of the bars\n",
    "\n",
    "fig, ax = plt.subplots(figsize=(5,7))\n",
    "error_config = {'ecolor': '0.3'}\n",
    "\n",
    "rects1 = ax.bar(ind + 0*width, means[:,0], width, color='#33a02c', yerr=stds[:,0], error_kw=error_config)\n",
    "rects2 = ax.bar(ind + 1*width, means[:,1], width, color='#6a3d9a', yerr=stds[:,1], error_kw=error_config)\n",
    "rects3 = ax.bar(ind + 2*width, means[:,2], width, color='#1f78b4', yerr=stds[:,2], error_kw=error_config)\n",
    "\n",
    "# add some text for labels, title and axes ticks\n",
    "ax.set_ylabel('Accuracy at 50 Epochs [%]')\n",
    "ax.set_xticks(ind + 1.7*width)\n",
    "ax.set_xticklabels(('\\nStandard\\nsampling', 'High\\nresolution\\nsampling', '\\nAsync.\\nsampling'))\n",
    "\n",
    "ax.legend((rects1[0], rects2[0], rects3[0]), ('Phased LSTM', 'BN LSTM', 'LSTM'), loc='center right', labelspacing=0.15, fontsize=18)\n",
    "\n",
    "def autolabel(rects):\n",
    "    # attach some text labels\n",
    "    for rect in rects:\n",
    "        height = rect.get_height()\n",
    "        ax.text(rect.get_x() + rect.get_width()/2., 1.05*height,\n",
    "                '%d' % int(height),\n",
    "                ha='center', va='bottom')\n",
    "\n",
    "plt.grid(which='both')\n",
    "plt.ylim([50, 100])\n",
    "\n",
    "\n",
    "plt.gcf().subplots_adjust(bottom=0.2, left=0.2)"
   ]
  }
 ],
 "metadata": {
  "kernelspec": {
   "display_name": "Python 2",
   "language": "python",
   "name": "python2"
  },
  "language_info": {
   "codemirror_mode": {
    "name": "ipython",
    "version": 2
   },
   "file_extension": ".py",
   "mimetype": "text/x-python",
   "name": "python",
   "nbconvert_exporter": "python",
   "pygments_lexer": "ipython2",
   "version": "2.7.12"
  }
 },
 "nbformat": 4,
 "nbformat_minor": 0
}
